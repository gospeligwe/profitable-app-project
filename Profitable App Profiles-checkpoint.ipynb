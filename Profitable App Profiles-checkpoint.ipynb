{
 "cells": [
  {
   "cell_type": "markdown",
   "metadata": {},
   "source": [
    "# Types of apps that are likely to attract more users\n",
    "\n",
    "This project is intended to give insights on what types of apps are likely to attract more users. This data will be useful to share with our development team so that they can understand what types of apps to develop so that we can gain the highest number of users. Since we only develop free apps, our main source of revenue are from in-app ads. This is why we are interested in finding out what types of apps attract more users.\n",
    "\n",
    "Our goal for this project is to determine which apps currently available in the app store and the google play store are attracting users and why."
   ]
  },
  {
   "cell_type": "markdown",
   "metadata": {},
   "source": [
    "As a first step, we're going to open both data sets and then slice them into two lists each, so each data set will have a list with all the headers, and a list with the actual data. They will be named subsequently with ios or android to distinguish between the two operating systems."
   ]
  },
  {
   "cell_type": "code",
   "execution_count": 1,
   "metadata": {},
   "outputs": [],
   "source": [
    "from csv import reader\n",
    "\n",
    "# import ios data set and convert to two separate lists\n",
    "opened_file = open('C:\\AppleStore.csv', encoding='utf8')\n",
    "read_file = reader(opened_file)\n",
    "ios = list(read_file)\n",
    "ios_header = ios[0]\n",
    "ios_data = ios[1:]\n",
    "\n",
    "# import android data set and convert to two separate lists\n",
    "opened_file = open('C:\\googleplaystore.csv', encoding='utf8')\n",
    "read_file = reader(opened_file)\n",
    "android = list(read_file)\n",
    "android_header = android[0]\n",
    "android_data = android[1:]"
   ]
  },
  {
   "cell_type": "markdown",
   "metadata": {},
   "source": [
    "Now that we have our data sets opened and converted into lists, we're going to inspect the data and see what types of data it has. To do this, first we define a function which allows us to explore a data set by separating the rows so that they are easier to read, this function takes in 4 inputs, the name of the dataset, the start and end rows for displaying data, and a parameter to count the number of rows and lengths in a data set (without the header data)."
   ]
  },
  {
   "cell_type": "code",
   "execution_count": 2,
   "metadata": {},
   "outputs": [
    {
     "name": "stdout",
     "output_type": "stream",
     "text": [
      "['id', 'track_name', 'size_bytes', 'currency', 'price', 'rating_count_tot', 'rating_count_ver', 'user_rating', 'user_rating_ver', 'ver', 'cont_rating', 'prime_genre', 'sup_devices.num', 'ipadSc_urls.num', 'lang.num', 'vpp_lic']\n",
      "\n",
      "\n",
      "['284882215', 'Facebook', '389879808', 'USD', '0.0', '2974676', '212', '3.5', '3.5', '95.0', '4+', 'Social Networking', '37', '1', '29', '1']\n",
      "\n",
      "\n",
      "['389801252', 'Instagram', '113954816', 'USD', '0.0', '2161558', '1289', '4.5', '4.0', '10.23', '12+', 'Photo & Video', '37', '0', '29', '1']\n",
      "\n",
      "\n",
      "Number of rows:  7197\n",
      "Number of columns:  16\n"
     ]
    }
   ],
   "source": [
    "def explore_data(dataset, start, end, rows_and_columns=False):\n",
    "    dataset_slice = dataset[start:end]\n",
    "    \n",
    "    for row in dataset_slice:\n",
    "        print(row)\n",
    "        print('\\n') # adds a new empty line after each row\n",
    "        \n",
    "    if rows_and_columns is True:\n",
    "        print('Number of rows: ', len(dataset))\n",
    "        print('Number of columns: ', len(dataset[0]))\n",
    "        \n",
    "    return\n",
    "\n",
    "print(ios_header)\n",
    "print('\\n')\n",
    "explore_data(ios_data, 0, 2, True)"
   ]
  },
  {
   "cell_type": "markdown",
   "metadata": {},
   "source": [
    "Analyzing the data from the iOS store, we see that there are a total of 7,197 different apps, and 16 different columns, out of these columns we might be able to use \"track_name,\" \"currency,\" \"price,\" \"ratingcounttot,\" \"ratingcountver,\" and \"prime_genre\" for our analysis. For more details on what these columns actually mean, you may click [here](https://www.kaggle.com/ramamet4/app-store-apple-data-set-10k-apps)"
   ]
  },
  {
   "cell_type": "code",
   "execution_count": 3,
   "metadata": {},
   "outputs": [
    {
     "name": "stdout",
     "output_type": "stream",
     "text": [
      "['App', 'Category', 'Rating', 'Reviews', 'Size', 'Installs', 'Type', 'Price', 'Content Rating', 'Genres', 'Last Updated', 'Current Ver', 'Android Ver']\n",
      "\n",
      "\n",
      "['Photo Editor & Candy Camera & Grid & ScrapBook', 'ART_AND_DESIGN', '4.1', '159', '19M', '10,000+', 'Free', '0', 'Everyone', 'Art & Design', '7-Jan-18', '1.0.0', '4.0.3 and up']\n",
      "\n",
      "\n",
      "['Coloring book moana', 'ART_AND_DESIGN', '3.9', '967', '14M', '500,000+', 'Free', '0', 'Everyone', 'Art & Design;Pretend Play', '15-Jan-18', '2.0.0', '4.0.3 and up']\n",
      "\n",
      "\n",
      "Number of rows:  10841\n",
      "Number of columns:  13\n"
     ]
    }
   ],
   "source": [
    "print(android_header)\n",
    "print('\\n')\n",
    "explore_data(android_data, 0, 2, True)"
   ]
  },
  {
   "cell_type": "markdown",
   "metadata": {},
   "source": [
    "Analyzing the data from the Google Play store, we see that there are a total of 10,841 apps and 13 columns, out of which the following seem interesting: \"App,\" \"Category,\" \"Reviews,\" \"Installs,\" \"Type,\" \"Price,\" and \"Genres.\""
   ]
  },
  {
   "cell_type": "markdown",
   "metadata": {},
   "source": [
    "Now, we are going to check both data sets to make sure the data is reliable. The first step we are going to do is to make sure that all columns of each data set have the same length as the header row. This tells us that all rows in the data set have the same length of data."
   ]
  },
  {
   "cell_type": "code",
   "execution_count": 4,
   "metadata": {},
   "outputs": [],
   "source": [
    "length_ios_header = len(ios_header)\n",
    "for row in ios_data:\n",
    "    if len(row) != length_ios_header:\n",
    "        print(row)\n",
    "        print(ios_data.index(row))"
   ]
  },
  {
   "cell_type": "markdown",
   "metadata": {},
   "source": [
    "Running the above code, we did not get any output, which means that the rows in the iOS data set are reliable and correct. Now we are going to run the same test for the android data set."
   ]
  },
  {
   "cell_type": "code",
   "execution_count": 5,
   "metadata": {},
   "outputs": [
    {
     "name": "stdout",
     "output_type": "stream",
     "text": [
      "10841\n"
     ]
    }
   ],
   "source": [
    "#alternately\n",
    "for row in android:\n",
    "    if len(row) != len(android_header): \n",
    "        print(row)\n",
    "print(android.index(row))\n",
    "        "
   ]
  },
  {
   "cell_type": "markdown",
   "metadata": {},
   "source": [
    "Based on the output from the above code, we can see that row index 10472 does not have the same length as the header row, and this means that there is a data point missing in this row. We are going to delete this row from the data set in the next step."
   ]
  },
  {
   "cell_type": "code",
   "execution_count": 6,
   "metadata": {},
   "outputs": [
    {
     "name": "stdout",
     "output_type": "stream",
     "text": [
      "10841\n"
     ]
    }
   ],
   "source": [
    "\n",
    "del android[10473]\n",
    "print(len(android))"
   ]
  },
  {
   "cell_type": "markdown",
   "metadata": {},
   "source": [
    "Now, we are going to check for duplicate apps in each data set. To achieve this, we're going to create two empty lists, one for unique apps, and the other for duplicate apps. First, we're going to perform this for the ios data set, and then the android data set."
   ]
  },
  {
   "cell_type": "code",
   "execution_count": 7,
   "metadata": {},
   "outputs": [
    {
     "name": "stdout",
     "output_type": "stream",
     "text": [
      "Number of duplicate apps:  0\n",
      "\n",
      "\n",
      "Examples of duplicate apps:  []\n"
     ]
    }
   ],
   "source": [
    "unique_apps = []\n",
    "duplicate_apps = []\n",
    "\n",
    "for row in ios_data:\n",
    "    name = row[0]\n",
    "    if name in unique_apps:\n",
    "        duplicate_apps.append(name)\n",
    "    else:\n",
    "        unique_apps.append(name)\n",
    "        \n",
    "print('Number of duplicate apps: ', len(duplicate_apps))\n",
    "print('\\n')\n",
    "print('Examples of duplicate apps: ', duplicate_apps[:10])"
   ]
  },
  {
   "cell_type": "markdown",
   "metadata": {},
   "source": [
    "As we can see, there are no duplicate apps in the ios data set. Now, we're going to run the same code for the android data set."
   ]
  },
  {
   "cell_type": "code",
   "execution_count": 8,
   "metadata": {},
   "outputs": [
    {
     "name": "stdout",
     "output_type": "stream",
     "text": [
      "Number of duplicate apps:  1181\n",
      "\n",
      "\n",
      "Examples of duplicate apps:  ['Quick PDF Scanner + OCR FREE', 'Box', 'Google My Business', 'ZOOM Cloud Meetings', 'join.me - Simple Meetings', 'Box', 'Zenefits', 'Google Ads', 'Google My Business', 'Slack']\n"
     ]
    }
   ],
   "source": [
    "unique_apps = []\n",
    "duplicate_apps = []\n",
    "\n",
    "for row in android_data:\n",
    "    name = row[0]\n",
    "    if name in unique_apps:\n",
    "        duplicate_apps.append(name)\n",
    "    else:\n",
    "        unique_apps.append(name)\n",
    "        \n",
    "print('Number of duplicate apps: ', len(duplicate_apps))\n",
    "print('\\n')\n",
    "print('Examples of duplicate apps: ', duplicate_apps[:10])"
   ]
  },
  {
   "cell_type": "markdown",
   "metadata": {},
   "source": [
    "We can see above that the result gave us a total number 1,181 apps that are duplicated in the android data set. To keep things simple, I reused the same lists from the ios example above."
   ]
  },
  {
   "cell_type": "markdown",
   "metadata": {},
   "source": [
    "To find out more about the duplicate apps, I'm going to print the rows of one duplicate app and see how the data looks like."
   ]
  },
  {
   "cell_type": "code",
   "execution_count": 9,
   "metadata": {},
   "outputs": [
    {
     "name": "stdout",
     "output_type": "stream",
     "text": [
      "['Slack', 'BUSINESS', '4.4', '51507', 'Varies with device', '5,000,000+', 'Free', '0', 'Everyone', 'Business', '2-Aug-18', 'Varies with device', 'Varies with device']\n",
      "['Slack', 'BUSINESS', '4.4', '51507', 'Varies with device', '5,000,000+', 'Free', '0', 'Everyone', 'Business', '2-Aug-18', 'Varies with device', 'Varies with device']\n",
      "['Slack', 'BUSINESS', '4.4', '51510', 'Varies with device', '5,000,000+', 'Free', '0', 'Everyone', 'Business', '2-Aug-18', 'Varies with device', 'Varies with device']\n"
     ]
    }
   ],
   "source": [
    "for row in android_data:\n",
    "    name = row[0]\n",
    "    if name == 'Slack':\n",
    "        print(row)"
   ]
  },
  {
   "cell_type": "markdown",
   "metadata": {},
   "source": [
    "I took the example of the Slack app, and if we look at the rows above, the only difference between the 3 entries is in the 4th column and it looks like it represents the number of reviews. The third entry has the highest number of reviews, so this entry would be the one that we would want to keep, and the other 2 entries would have to be removed. We will use this logic to remove duplicates in the following steps."
   ]
  },
  {
   "cell_type": "code",
   "execution_count": 10,
   "metadata": {},
   "outputs": [
    {
     "name": "stdout",
     "output_type": "stream",
     "text": [
      "9660\n",
      "9660\n"
     ]
    }
   ],
   "source": [
    "reviews_max = {}\n",
    "\n",
    "for row in android_data:\n",
    "    name = row[0]\n",
    "    n_reviews = row[3]\n",
    "    if name in reviews_max and reviews_max[name] < n_reviews:\n",
    "        reviews_max[name] = n_reviews\n",
    "    elif name not in reviews_max:\n",
    "        reviews_max[name] = n_reviews\n",
    "\n",
    "expected_length = len(android_data) - len(duplicate_apps)\n",
    "print(expected_length)\n",
    "print(len(reviews_max))"
   ]
  },
  {
   "cell_type": "markdown",
   "metadata": {},
   "source": [
    "Above, we created an empty dictionary and looped through the android data set and for each app, we added the name and the number of reviews to the dictionary. Within the loop, we checked that if the name already existed inside the dictionary, we checked if the number of reviews was less than the current row being looped in, and if it was true, we updated the number of reviews in the dictionary with the higher number.\n",
    "\n",
    "Then, we checked the expected length of our new data set by subtracting duplicate apps from the original data set and comparing this length with the length of the newly created dictionary, to make sure we will have the same length after removing our duplicates."
   ]
  },
  {
   "cell_type": "code",
   "execution_count": 11,
   "metadata": {},
   "outputs": [
    {
     "name": "stdout",
     "output_type": "stream",
     "text": [
      "9660\n"
     ]
    }
   ],
   "source": [
    "android_clean = []\n",
    "already_added = []\n",
    "\n",
    "for row in android_data:\n",
    "    name = row[0]\n",
    "    n_reviews = row[3]\n",
    "    if n_reviews == reviews_max[name] and name not in already_added:\n",
    "        android_clean.append(row)\n",
    "        already_added.append(name)\n",
    "\n",
    "print(len(android_clean))"
   ]
  },
  {
   "cell_type": "markdown",
   "metadata": {},
   "source": [
    "Above, we completed the act of cleaning our android data set. We did this first by creating two new empty lists, one for the newly cleaned data, the second to maintain a list of names of apps that have already been added to the cleaned list. We cleaned the data by looping through the android data set and comparing the number of reviews for each row with the number of reviews stored in our dictionary against the corresponding app name. If the number of reviews matched for that specific app inside the dictionary, we added the full row to the android_clean list, and added the name of the app to the other list if it already didn't exist.\n",
    "\n",
    "Now we have completed the cleaning of duplicate apps."
   ]
  },
  {
   "cell_type": "markdown",
   "metadata": {},
   "source": [
    "                                         #REMOVING NON_ENGLISH\n",
    "\n",
    "\n",
    "Now, we are going to begin the process of removing non English apps from our data. Since our company is only focused on creating apps for the English speaking population, we are only interested in analyzing English language apps. \n",
    "\n",
    "To begin with this, we're going to write a function that checks whether an app's name is in English or not."
   ]
  },
  {
   "cell_type": "code",
   "execution_count": 12,
   "metadata": {},
   "outputs": [],
   "source": [
    "def is_english(a_string):\n",
    "    special_char = 0\n",
    "    for character in a_string:\n",
    "        if ord(character) > 127:\n",
    "            special_char += 1\n",
    "    if special_char > 3:\n",
    "        return False\n",
    "    else:\n",
    "        return True"
   ]
  },
  {
   "cell_type": "code",
   "execution_count": 13,
   "metadata": {},
   "outputs": [
    {
     "name": "stdout",
     "output_type": "stream",
     "text": [
      "True\n",
      "False\n",
      "True\n",
      "True\n"
     ]
    }
   ],
   "source": [
    "print(is_english('Instagram'))\n",
    "print(is_english('爱奇艺PPS -《欢乐颂2》电视')) # its greater than 127(> 127)\n",
    "print(is_english('Docs To Go™ Free Office Suite'))\n",
    "print(is_english('Instachat😜'))"
   ]
  },
  {
   "cell_type": "code",
   "execution_count": 14,
   "metadata": {},
   "outputs": [
    {
     "name": "stdout",
     "output_type": "stream",
     "text": [
      "128540\n",
      "8482\n"
     ]
    }
   ],
   "source": [
    "print(ord('😜'))\n",
    "print(ord('™'))\n"
   ]
  },
  {
   "cell_type": "code",
   "execution_count": 15,
   "metadata": {},
   "outputs": [
    {
     "name": "stdout",
     "output_type": "stream",
     "text": [
      "98\n",
      "106\n"
     ]
    }
   ],
   "source": [
    "print(ord('b'))\n",
    "print(ord('j'))"
   ]
  },
  {
   "cell_type": "markdown",
   "metadata": {},
   "source": [
    "Above, we wrote a function that checks each character of a string and uses the ord function to determine it's ASCII number. According to ASCII, all letters in the English language have an ASCII number from 0 to 127. So our function is designed in such a way that it checks the ASCII number of each character in the string to see if it is > 127 and if it is, it returns a False statement which tells us it's not in English.\n",
    "                     PART 2\n",
    "However, we can see that some apps which have special characters such as Docs To Go™ Free Office Suite and Instachat 😜 will return a False statement with the above function. This is because emojis and special characters are outside of the 0-127 range of ASCII characters. \n",
    "\n",
    "To minimize the impact of data loss, we'll only remove an app if its name has more than three non-ASCII characters:\n",
    "\n",
    "\n",
    "So now, we're going to modify the function so that it accepts at most 3 special characters to determine whether an app is English or not, any app more than 3 special characters, will be discounted as non English, even if it is made up of all English characters."
   ]
  },
  {
   "cell_type": "markdown",
   "metadata": {},
   "source": [
    "Now that we have our function ready, we are going to loop through both data sets, we use the is_english() function to filter out the non-English apps for both data sets.\n",
    "\n",
    "\n",
    "And identify apps as English, and if they are identified as English, we will append them to a new list."
   ]
  },
  {
   "cell_type": "code",
   "execution_count": 16,
   "metadata": {},
   "outputs": [
    {
     "name": "stdout",
     "output_type": "stream",
     "text": [
      "['284882215', 'Facebook', '389879808', 'USD', '0.0', '2974676', '212', '3.5', '3.5', '95.0', '4+', 'Social Networking', '37', '1', '29', '1']\n",
      "\n",
      "\n",
      "['389801252', 'Instagram', '113954816', 'USD', '0.0', '2161558', '1289', '4.5', '4.0', '10.23', '12+', 'Photo & Video', '37', '0', '29', '1']\n",
      "\n",
      "\n",
      "['529479190', 'Clash of Clans', '116476928', 'USD', '0.0', '2130805', '579', '4.5', '4.5', '9.24.12', '9+', 'Games', '38', '5', '18', '1']\n",
      "\n",
      "\n",
      "Number of rows:  6183\n",
      "Number of columns:  16\n",
      "\n",
      "\n",
      "['Photo Editor & Candy Camera & Grid & ScrapBook', 'ART_AND_DESIGN', '4.1', '159', '19M', '10,000+', 'Free', '0', 'Everyone', 'Art & Design', '7-Jan-18', '1.0.0', '4.0.3 and up']\n",
      "\n",
      "\n",
      "['U Launcher Lite – FREE Live Cool Themes, Hide Apps', 'ART_AND_DESIGN', '4.7', '87510', '8.7M', '5,000,000+', 'Free', '0', 'Everyone', 'Art & Design', '1-Aug-18', '1.2.4', '4.0.3 and up']\n",
      "\n",
      "\n",
      "['Sketch - Draw & Paint', 'ART_AND_DESIGN', '4.5', '215644', '25M', '50,000,000+', 'Free', '0', 'Teen', 'Art & Design', '8-Jun-18', 'Varies with device', '4.2 and up']\n",
      "\n",
      "\n",
      "Number of rows:  9615\n",
      "Number of columns:  13\n"
     ]
    }
   ],
   "source": [
    "ios_english = []\n",
    "android_english = []\n",
    "\n",
    "for row in ios_data:\n",
    "    if is_english(row[1]):\n",
    "        ios_english.append(row)\n",
    "        \n",
    "for row in android_clean:\n",
    "    if is_english(row[0]):\n",
    "        android_english.append(row)\n",
    "        \n",
    "explore_data(ios_english, 0, 3, True)\n",
    "print('\\n')\n",
    "explore_data(android_english, 0, 3, True)"
   ]
  },
  {
   "cell_type": "markdown",
   "metadata": {},
   "source": [
    "After running the above loop, we found 6,183 apps that were English and created a new list with the data, the same for Android with 9,614 apps. We used our function to check if the apps were English, and if they were, we added the whole row to a new list. These two lists will now be the basis of our analysis."
   ]
  },
  {
   "cell_type": "markdown",
   "metadata": {},
   "source": [
    "                              Isolating the Free Apps\n",
    "As we mentioned in the introduction, we only build apps that are free to download and install, and our main source of revenue consists of in-app ads. Our data sets contain both free and non-free apps, and we'll need to isolate only the free apps for our analysis. Below, we isolate the free apps for both our data sets.\n",
    "\n",
    "We are only interested in free apps, so in order to analyze them, we need to remove all the apps that are paid."
   ]
  },
  {
   "cell_type": "code",
   "execution_count": 17,
   "metadata": {},
   "outputs": [
    {
     "name": "stdout",
     "output_type": "stream",
     "text": [
      "['284882215', 'Facebook', '389879808', 'USD', '0.0', '2974676', '212', '3.5', '3.5', '95.0', '4+', 'Social Networking', '37', '1', '29', '1']\n",
      "\n",
      "\n",
      "['389801252', 'Instagram', '113954816', 'USD', '0.0', '2161558', '1289', '4.5', '4.0', '10.23', '12+', 'Photo & Video', '37', '0', '29', '1']\n",
      "\n",
      "\n",
      "['529479190', 'Clash of Clans', '116476928', 'USD', '0.0', '2130805', '579', '4.5', '4.5', '9.24.12', '9+', 'Games', '38', '5', '18', '1']\n",
      "\n",
      "\n",
      "Number of rows:  3222\n",
      "Number of columns:  16\n",
      "\n",
      "\n",
      "['Photo Editor & Candy Camera & Grid & ScrapBook', 'ART_AND_DESIGN', '4.1', '159', '19M', '10,000+', 'Free', '0', 'Everyone', 'Art & Design', '7-Jan-18', '1.0.0', '4.0.3 and up']\n",
      "\n",
      "\n",
      "['U Launcher Lite – FREE Live Cool Themes, Hide Apps', 'ART_AND_DESIGN', '4.7', '87510', '8.7M', '5,000,000+', 'Free', '0', 'Everyone', 'Art & Design', '1-Aug-18', '1.2.4', '4.0.3 and up']\n",
      "\n",
      "\n",
      "['Sketch - Draw & Paint', 'ART_AND_DESIGN', '4.5', '215644', '25M', '50,000,000+', 'Free', '0', 'Teen', 'Art & Design', '8-Jun-18', 'Varies with device', '4.2 and up']\n",
      "\n",
      "\n",
      "Number of rows:  8861\n",
      "Number of columns:  13\n",
      "\n",
      "\n"
     ]
    }
   ],
   "source": [
    "ios_free = []\n",
    "android_free = []\n",
    "\n",
    "for row in ios_english:\n",
    "    price = row[4]\n",
    "    if price == '0.0':\n",
    "        ios_free.append(row)\n",
    "        \n",
    "for row in android_english:\n",
    "    price = row[6]\n",
    "    if price == 'Free':\n",
    "        android_free.append(row)\n",
    "        \n",
    "explore_data(ios_free, 0, 3, True)\n",
    "print('\\n')\n",
    "explore_data(android_free, 0, 3, True)\n",
    "print('\\n')\n"
   ]
  },
  {
   "cell_type": "markdown",
   "metadata": {},
   "source": [
    "Most Common Apps by Genre\n",
    "\n",
    "\n",
    "                                  PART ONE\n",
    "As we mentioned in the introduction, our aim is to determine the kinds of apps that are likely to attract more users because our revenue is highly influenced by the number of people using our apps.\n",
    "\n",
    "To minimize risks and overhead, our validation strategy for an app idea is comprised of three steps:\n",
    "\n",
    "Build a minimal Android version of the app, and add it to Google Play.\n",
    "\n",
    "\n",
    "a)   If the app has a good response from users, we then develop it further.\n",
    "\n",
    "\n",
    "b)   If the app is profitable after six months, we also build an iOS version of the app and add it to the App Store.\n",
    "\n",
    "\n",
    "Because our end goal is to add the app on both the App Store and Google Play, we need to find app profiles that are successful on both markets. \n",
    "\n",
    "-For instance, a profile that might work well for both markets might be a productivity app that makes use of gamification.\n",
    "\n",
    "Let's begin the analysis by getting a sense of the most common genres for each market. For this, we'll build a frequency table for the prime_genre column of the App Store data set, and the Genres and Category columns of the Google Play data set.\n"
   ]
  },
  {
   "cell_type": "markdown",
   "metadata": {},
   "source": [
    "\n",
    "    \n",
    "    \n",
    "                       NOTE\n",
    "    \n",
    "    \n",
    "    \n",
    "    \n",
    "    We'll build two functions we can use to analyze the frequency tables:\n",
    "\n",
    "     1)    One function to generate frequency tables that show percentages\n",
    "     2)    Another function that we can use to display the percentages in a descending order\n",
    "We can create a dictionary and populate it with values by following these steps:\n",
    "\n",
    "We create an empty dictionary.\n",
    "We add values one by one to that empty dictionary.\n",
    "\n",
    "\n",
    "Adding a value to a dictionary follows the pattern \n",
    "\n",
    "dictionary_name[index] = value.\n",
    "\n",
    "To add a value 4433 with an index '4+' to a dictionary named content_ratings,\n",
    "\n",
    "we need to use the code content_ratings['4+'] = 4433."
   ]
  },
  {
   "cell_type": "markdown",
   "metadata": {},
   "source": [
    "Essence of the total = 0, total += 1\n",
    "\n",
    "Initiate a variable named total with a value of 0. This variable will store the sum of user ratings \n",
    "\n",
    "(the number of ratings, not the actual ratings) specific to each genre.\n",
    "\n",
    "Initiate a variable named len_genre with a value of 0. This variable will store the number of apps specific to each genre.\n",
    "\n",
    "\n",
    "However, the sorted() function works well if we transform the dictionary into a list of tuples, where each tuple contains a dictionary key along with its corresponding dictionary value. To ensure the sorting works right, the dictionary value comes first, and the dictionary key comes second:\n",
    "\n",
    "\n"
   ]
  },
  {
   "cell_type": "code",
   "execution_count": 18,
   "metadata": {},
   "outputs": [],
   "source": [
    "def freq_table(dataset, index):\n",
    "    table = {}\n",
    "    total = 0\n",
    "    \n",
    "    for row in dataset:\n",
    "        total += 1\n",
    "        value = row[index]\n",
    "        if value in table:\n",
    "            table[value] += 1\n",
    "        else:\n",
    "            table[value] = 1\n",
    "    \n",
    "    table_percentages = {}\n",
    "    for key in table:\n",
    "        percentage = (table[key] / total) * 100\n",
    "        table_percentages[key] = percentage \n",
    "    \n",
    "    return table_percentages\n"
   ]
  },
  {
   "cell_type": "markdown",
   "metadata": {},
   "source": [
    "However, dictionaries don't have order, and it will be very difficult to analyze the frequency tables. \n",
    "\n",
    "We'll need to build a second function which can help us display the entries in the frequency table in a descending order.\n",
    "\n",
    "To do that, we'll need to make use of the built-in sorted() function. \n",
    "\n",
    "This function takes in an iterable data type (like a list, dictionary, tuple, etc.), \n",
    "\n",
    "and returns a list of the elements of that iterable sorted in ascending or descending order (the reverse parameter controls whether the order is ascending or descending).\n",
    "\n",
    "However, the sorted() function works well if we transform the dictionary into a list of tuples, where each tuple contains a dictionary key along with its corresponding dictionary value. To ensure the sorting works right, the dictionary value comes first, and the dictionary key comes second:\n",
    "\n",
    "\n",
    "This is a bit overcomplicated to just sort a dictionary, but there are much simpler ways to do this once we learn more advanced techniques.\n",
    "\n",
    "\n",
    "Using the workaround above, we wrote a helper function for you named display_table(), which you'll be able to combine with the function you're going to write in the next exercise. The display_table() function you see below:\n",
    "\n",
    "Takes in two parameters: dataset and index. dataset is expected to be a list of lists, and index is expected to be an integer.\n",
    "Generates a frequency table using the freq_table() function (which you're going to write as an exercise).\n",
    "Transforms the frequency table into a list of tuples, then sorts the list in a descending order.\n",
    "Prints the entries of the frequency table in descending order.\n",
    "\n",
    "\n"
   ]
  },
  {
   "cell_type": "code",
   "execution_count": 19,
   "metadata": {},
   "outputs": [],
   "source": [
    "\n",
    "def display_table(dataset, index):\n",
    "    table = freq_table(dataset, index)\n",
    "    table_display = []\n",
    "    for key in table:\n",
    "        key_val_as_tuple = (table[key], key)\n",
    "        table_display.append(key_val_as_tuple)\n",
    "        \n",
    "    table_sorted = sorted(table_display, reverse = True)\n",
    "    for entry in table_sorted:\n",
    "        print(entry[1], ':', entry[0])"
   ]
  },
  {
   "cell_type": "code",
   "execution_count": 20,
   "metadata": {},
   "outputs": [
    {
     "name": "stdout",
     "output_type": "stream",
     "text": [
      "Games : 54.860100274947435\n",
      "Entertainment : 7.261846999838266\n",
      "Education : 6.6310852337053205\n",
      "Photo & Video : 5.515122109008572\n",
      "Utilities : 3.4449296458030085\n",
      "Productivity : 2.7171276079573023\n",
      "Health & Fitness : 2.6686074721009216\n",
      "Music : 2.215752870774705\n",
      "Social Networking : 2.037845705967977\n",
      "Sports : 1.6820313763545207\n",
      "Lifestyle : 1.6011644832605532\n",
      "Shopping : 1.3747371825974446\n",
      "Weather : 1.1159631246967492\n",
      "Travel : 0.9704027171276078\n",
      "News : 0.9218825812712276\n",
      "Book : 0.8895358240336406\n",
      "Reference : 0.8571890667960537\n",
      "Business : 0.8571890667960537\n",
      "Finance : 0.7924955523208799\n",
      "Food & Drink : 0.7116286592269124\n",
      "Navigation : 0.452854601326217\n",
      "Medical : 0.3396409509946628\n",
      "Catalogs : 0.08086689309396733\n"
     ]
    }
   ],
   "source": [
    "#Part Three\n",
    "#We start by examining the frequency table for the prime_genre column of the App Store data set.\n",
    "display_table(ios_english, -5) # prime_genre"
   ]
  },
  {
   "cell_type": "markdown",
   "metadata": {},
   "source": [
    "We can see that among the free English apps, more than a half (54.86%) are Games. \n",
    "\n",
    "Entertainment apps are close to 8%, followed by photo and video apps, which are close to 5%. Only 3.66% of the apps are designed for education, followed by social networking apps which amount for 3.29% of the apps in our data set.\n",
    "\n",
    "The general impression is that App Store (at least the part containing free English apps) is dominated by apps that are designed for fun (games, entertainment, photo and video, social networking, sports, music, etc.),\n",
    "\n",
    "while apps with practical purposes (education, shopping, utilities, productivity, lifestyle, etc.) are more rare. \n",
    "\n",
    "However, the fact that fun apps are the most numerous doesn't also imply that they also have the greatest number of users — the demand might not be the same as the offer.\n",
    "\n",
    "Let's continue by examining the Genres and Category columns of the Google Play data set (two columns which seem to be related).\n"
   ]
  },
  {
   "cell_type": "code",
   "execution_count": 21,
   "metadata": {},
   "outputs": [
    {
     "name": "stdout",
     "output_type": "stream",
     "text": [
      "FAMILY : 19.34477379095164\n",
      "GAME : 9.786791471658866\n",
      "TOOLS : 8.60114404576183\n",
      "BUSINESS : 4.357774310972439\n",
      "MEDICAL : 4.108164326573062\n",
      "PERSONALIZATION : 3.9001560062402496\n",
      "PRODUCTIVITY : 3.8793551742069687\n",
      "LIFESTYLE : 3.785751430057202\n",
      "FINANCE : 3.58814352574103\n",
      "SPORTS : 3.3801352054082163\n",
      "COMMUNICATION : 3.2657306292251693\n",
      "HEALTH_AND_FITNESS : 2.995319812792512\n",
      "PHOTOGRAPHY : 2.912116484659386\n",
      "NEWS_AND_MAGAZINES : 2.6001040041601664\n",
      "SOCIAL : 2.485699427977119\n",
      "TRAVEL_AND_LOCAL : 2.277691107644306\n",
      "BOOKS_AND_REFERENCE : 2.267290691627665\n",
      "SHOPPING : 2.0904836193447736\n",
      "DATING : 1.7784711388455536\n",
      "VIDEO_PLAYERS : 1.6952678107124284\n",
      "MAPS_AND_NAVIGATION : 1.341653666146646\n",
      "FOOD_AND_DRINK : 1.1648465938637547\n",
      "EDUCATION : 1.1128445137805512\n",
      "ENTERTAINMENT : 0.9048361934477379\n",
      "LIBRARIES_AND_DEMO : 0.8736349453978159\n",
      "AUTO_AND_VEHICLES : 0.8736349453978159\n",
      "WEATHER : 0.8216328653146125\n",
      "HOUSE_AND_HOME : 0.7592303692147686\n",
      "EVENTS : 0.6656266250650026\n",
      "PARENTING : 0.62402496099844\n",
      "ART_AND_DESIGN : 0.62402496099844\n",
      "COMICS : 0.5720228809152366\n",
      "BEAUTY : 0.5512220488819553\n",
      "1.9 : 0.010400416016640665\n"
     ]
    }
   ],
   "source": [
    "display_table(android_english, 1) # Category"
   ]
  },
  {
   "cell_type": "markdown",
   "metadata": {},
   "source": [
    "The landscape seems significantly different on Google Play\n",
    "there are not that many apps designed for fun, and it seems that a good number of apps are designed for practical purposes \n",
    "(family, tools, business, lifestyle, productivity, etc.). \n",
    "However, if we investigate this further, we can see that the family category (which accounts for almost 19% of the apps) \n",
    "means mostly games for kids.\n",
    "\n",
    "\n",
    "Even so, practical apps seem to have a better representation on Google Play compared to App Store. This picture is also confirmed by the frequency table we see for the Genres column:"
   ]
  },
  {
   "cell_type": "code",
   "execution_count": 22,
   "metadata": {},
   "outputs": [
    {
     "name": "stdout",
     "output_type": "stream",
     "text": [
      "Tools : 8.590743629745191\n",
      "Entertainment : 5.793031721268851\n",
      "Education : 5.231409256370255\n",
      "Business : 4.357774310972439\n",
      "Medical : 4.108164326573062\n",
      "Personalization : 3.9001560062402496\n",
      "Productivity : 3.8793551742069687\n",
      "Lifestyle : 3.7753510140405613\n",
      "Finance : 3.58814352574103\n",
      "Sports : 3.4425377015080603\n",
      "Communication : 3.2657306292251693\n",
      "Action : 3.109724388975559\n",
      "Health & Fitness : 2.995319812792512\n",
      "Photography : 2.912116484659386\n",
      "News & Magazines : 2.6001040041601664\n",
      "Social : 2.485699427977119\n",
      "Travel & Local : 2.267290691627665\n",
      "Books & Reference : 2.267290691627665\n",
      "Shopping : 2.0904836193447736\n",
      "Simulation : 1.9760790431617263\n",
      "Arcade : 1.9136765470618826\n",
      "Dating : 1.7784711388455536\n",
      "Casual : 1.7056682267290693\n",
      "Video Players & Editors : 1.6744669786791473\n",
      "Maps & Navigation : 1.341653666146646\n",
      "Puzzle : 1.2376495059802393\n",
      "Food & Drink : 1.1648465938637547\n",
      "Role Playing : 1.0816432657306292\n",
      "Strategy : 0.9776391055642226\n",
      "Racing : 0.9464378575143005\n",
      "Libraries & Demo : 0.8736349453978159\n",
      "Auto & Vehicles : 0.8736349453978159\n",
      "Weather : 0.8216328653146125\n",
      "House & Home : 0.7592303692147686\n",
      "Adventure : 0.748829953198128\n",
      "Events : 0.6656266250650026\n",
      "Art & Design : 0.5824232969318773\n",
      "Comics : 0.5616224648985959\n",
      "Beauty : 0.5512220488819553\n",
      "Parenting : 0.47841913676547065\n",
      "Card : 0.47841913676547065\n",
      "Board : 0.4264170566822673\n",
      "Casino : 0.40561622464898595\n",
      "Educational;Education : 0.3952158086323453\n",
      "Trivia : 0.38481539261570463\n",
      "Educational : 0.38481539261570463\n",
      "Education;Education : 0.36401456058242326\n",
      "Casual;Pretend Play : 0.26001040041601664\n",
      "Word : 0.23920956838273533\n",
      "Music : 0.19760790431617264\n",
      "Puzzle;Brain Games : 0.187207488299532\n",
      "Education;Pretend Play : 0.1768070722828913\n",
      "Racing;Action & Adventure : 0.16640665626625065\n",
      "Entertainment;Music & Video : 0.15600624024961\n",
      "Board;Brain Games : 0.15600624024961\n",
      "Arcade;Action & Adventure : 0.14560582423296933\n",
      "Educational;Pretend Play : 0.13520540821632865\n",
      "Casual;Action & Adventure : 0.13520540821632865\n",
      "Casual;Brain Games : 0.12480499219968799\n",
      "Action;Action & Adventure : 0.12480499219968799\n",
      "Simulation;Action & Adventure : 0.07280291211648467\n",
      "Parenting;Education : 0.07280291211648467\n",
      "Entertainment;Brain Games : 0.07280291211648467\n",
      "Parenting;Music & Video : 0.062402496099843996\n",
      "Educational;Brain Games : 0.062402496099843996\n",
      "Education;Creativity : 0.062402496099843996\n",
      "Casual;Creativity : 0.062402496099843996\n",
      "Art & Design;Creativity : 0.062402496099843996\n",
      "Educational;Creativity : 0.05200208008320333\n",
      "Adventure;Action & Adventure : 0.05200208008320333\n",
      "Sports;Action & Adventure : 0.04160166406656266\n",
      "Role Playing;Pretend Play : 0.04160166406656266\n",
      "Role Playing;Action & Adventure : 0.04160166406656266\n",
      "Education;Brain Games : 0.04160166406656266\n",
      "Education;Action & Adventure : 0.04160166406656266\n",
      "Simulation;Pretend Play : 0.031201248049921998\n",
      "Simulation;Education : 0.031201248049921998\n",
      "Puzzle;Action & Adventure : 0.031201248049921998\n",
      "Music;Music & Video : 0.031201248049921998\n",
      "Entertainment;Creativity : 0.031201248049921998\n",
      "Entertainment;Action & Adventure : 0.031201248049921998\n",
      "Educational;Action & Adventure : 0.031201248049921998\n",
      "Education;Music & Video : 0.031201248049921998\n",
      "Casual;Education : 0.031201248049921998\n",
      "Board;Action & Adventure : 0.031201248049921998\n",
      "Video Players & Editors;Music & Video : 0.02080083203328133\n",
      "Strategy;Action & Adventure : 0.02080083203328133\n",
      "Puzzle;Creativity : 0.02080083203328133\n",
      "Entertainment;Pretend Play : 0.02080083203328133\n",
      "Card;Action & Adventure : 0.02080083203328133\n",
      "Books & Reference;Education : 0.02080083203328133\n",
      "Video Players & Editors;Creativity : 0.010400416016640665\n",
      "Trivia;Education : 0.010400416016640665\n",
      "Travel & Local;Action & Adventure : 0.010400416016640665\n",
      "Tools;Education : 0.010400416016640665\n",
      "Strategy;Education : 0.010400416016640665\n",
      "Strategy;Creativity : 0.010400416016640665\n",
      "Role Playing;Education : 0.010400416016640665\n",
      "Role Playing;Brain Games : 0.010400416016640665\n",
      "Racing;Pretend Play : 0.010400416016640665\n",
      "Puzzle;Education : 0.010400416016640665\n",
      "Parenting;Brain Games : 0.010400416016640665\n",
      "Music & Audio;Music & Video : 0.010400416016640665\n",
      "Lifestyle;Pretend Play : 0.010400416016640665\n",
      "Lifestyle;Education : 0.010400416016640665\n",
      "Health & Fitness;Education : 0.010400416016640665\n",
      "Health & Fitness;Action & Adventure : 0.010400416016640665\n",
      "Entertainment;Education : 0.010400416016640665\n",
      "Communication;Creativity : 0.010400416016640665\n",
      "Comics;Creativity : 0.010400416016640665\n",
      "Casual;Music & Video : 0.010400416016640665\n",
      "Card;Brain Games : 0.010400416016640665\n",
      "Books & Reference;Creativity : 0.010400416016640665\n",
      "Board;Pretend Play : 0.010400416016640665\n",
      "Art & Design;Pretend Play : 0.010400416016640665\n",
      "Art & Design;Action & Adventure : 0.010400416016640665\n",
      "Arcade;Pretend Play : 0.010400416016640665\n",
      "Adventure;Education : 0.010400416016640665\n",
      "Adventure;Brain Games : 0.010400416016640665\n",
      "11-Feb-18 : 0.010400416016640665\n"
     ]
    }
   ],
   "source": [
    "display_table(android_english, -4) # Genres"
   ]
  },
  {
   "cell_type": "markdown",
   "metadata": {},
   "source": [
    "The difference between the Genres and the Category columns is not crystal clear, but one thing we can notice is that the Genres column is much more granular (it has more categories). We're only looking for the bigger picture at the moment, so we'll only work with the Category column moving forward.\n",
    "\n",
    "Up to this point, we found that the App Store is dominated by apps designed for fun, while Google Play shows a more balanced landscape of both practical and for-fun apps. \n",
    "\n",
    "\n",
    "Now we'd like to get an idea about the kind of apps that have most users."
   ]
  },
  {
   "cell_type": "markdown",
   "metadata": {},
   "source": [
    "Most Popular Apps by Genre on the App Store\n",
    "\n",
    "\n",
    "One way to find out what genres are the most \n",
    "popular (have the most users) is to calculate the average number of installs for each app genre. For the Google Play data set, we can find this information in the Installs column, but for the App Store data set this information is missing. \n",
    "\n",
    "As a workaround, we'll take the total number of user ratings as a proxy, which we can find in the rating_count_tot app.\n",
    "\n",
    "Below, we calculate the average number of user ratings per app genre on the App Store:\n"
   ]
  },
  {
   "cell_type": "code",
   "execution_count": 4,
   "metadata": {},
   "outputs": [
    {
     "ename": "NameError",
     "evalue": "name 'ios_english' is not defined",
     "output_type": "error",
     "traceback": [
      "\u001b[1;31m---------------------------------------------------------------------------\u001b[0m",
      "\u001b[1;31mNameError\u001b[0m                                 Traceback (most recent call last)",
      "\u001b[1;32m<ipython-input-4-636e68b5dada>\u001b[0m in \u001b[0;36m<module>\u001b[1;34m\u001b[0m\n\u001b[1;32m----> 1\u001b[1;33m \u001b[0mgenres_ios\u001b[0m \u001b[1;33m=\u001b[0m \u001b[0mfreq_table\u001b[0m\u001b[1;33m(\u001b[0m\u001b[0mios_english\u001b[0m\u001b[1;33m,\u001b[0m \u001b[1;33m-\u001b[0m\u001b[1;36m5\u001b[0m\u001b[1;33m)\u001b[0m\u001b[1;33m\u001b[0m\u001b[1;33m\u001b[0m\u001b[0m\n\u001b[0m\u001b[0;32m      2\u001b[0m \u001b[1;33m\u001b[0m\u001b[0m\n\u001b[0;32m      3\u001b[0m \u001b[1;32mfor\u001b[0m \u001b[0mgenre\u001b[0m \u001b[1;32min\u001b[0m \u001b[0mgenres_ios\u001b[0m\u001b[1;33m:\u001b[0m\u001b[1;33m\u001b[0m\u001b[1;33m\u001b[0m\u001b[0m\n\u001b[0;32m      4\u001b[0m     \u001b[0mtotal\u001b[0m \u001b[1;33m=\u001b[0m \u001b[1;36m0\u001b[0m\u001b[1;33m\u001b[0m\u001b[1;33m\u001b[0m\u001b[0m\n\u001b[0;32m      5\u001b[0m     \u001b[0mlen_genre\u001b[0m \u001b[1;33m=\u001b[0m \u001b[1;36m0\u001b[0m\u001b[1;33m\u001b[0m\u001b[1;33m\u001b[0m\u001b[0m\n",
      "\u001b[1;31mNameError\u001b[0m: name 'ios_english' is not defined"
     ]
    }
   ],
   "source": [
    "genres_ios = freq_table(ios_english, -5)\n",
    "\n",
    "for genre in genres_ios:\n",
    "    total = 0\n",
    "    len_genre = 0\n",
    "    for app in ios_english:\n",
    "        genre_app = app[-5]\n",
    "        if genre_app == genre:            \n",
    "            n_ratings = float(app[5])\n",
    "            total += n_ratings\n",
    "            len_genre += 1\n",
    "    avg_n_ratings = total / len_genre\n",
    "    print(genre, ':', avg_n_ratings)"
   ]
  },
  {
   "cell_type": "markdown",
   "metadata": {},
   "source": [
    "On average, navigation apps have the highest number of user reviews, but this figure is heavily influenced by Waze and Google Maps, which have close to half a million user reviews together:"
   ]
  },
  {
   "cell_type": "code",
   "execution_count": 24,
   "metadata": {},
   "outputs": [
    {
     "name": "stdout",
     "output_type": "stream",
     "text": [
      "Waze - GPS Navigation, Maps & Real-time Traffic : 345046\n",
      "Google Maps - Navigation & Transit : 154911\n",
      "MotionX GPS : 14970\n",
      "Geocaching® : 12811\n",
      "CoPilot GPS – Car Navigation & Offline Maps : 3582\n",
      "Gaia GPS Classic : 2429\n",
      "Plane Finder - Flight Tracker : 1438\n",
      "iMaps+ for Google Maps ™ and Street View ™ : Transit and Offline Contacts : 1225\n",
      "NAVIGON Europe : 927\n",
      "Localscope - Find places and people around you : 868\n",
      "Ski Tracks : 829\n",
      "TRANSPORT MODS for MINECRAFT Pc EDITION : 754\n",
      "Pocket Earth PRO Offline Maps & Travel Guides : 748\n",
      "Ship Finder : 624\n",
      "Boating USA : 342\n",
      "Maps 3D PRO - GPS for Bike, Hike, Ski & Outdoor : 280\n",
      "Cachly - Simple and powerful Geocaching for iPhone : 263\n",
      "ImmobilienScout24: Real Estate Search in Germany : 187\n",
      "The JMU Bus App : 35\n",
      "Avertinoo : 32\n",
      "iStellar : 30\n",
      "mySTATE - State College : 26\n",
      "Road watcher: dash camera, car video recorder. : 10\n",
      "Streets – Street View Browser : 10\n",
      "Railway Route Search : 5\n",
      "parkOmator – for Apple Watch meter expiration timer, notifications & GPS navigator to car location : 1\n",
      "ZuumSpeed Customizable Speedometer + HUD : 0\n",
      "BringGo Western Europe : 0\n"
     ]
    }
   ],
   "source": [
    "for app in ios_english:\n",
    "    if app[-5] == 'Navigation':\n",
    "        print(app[1], ':', app[5]) # print name and number of ratings"
   ]
  },
  {
   "cell_type": "markdown",
   "metadata": {},
   "source": [
    "The same pattern applies to social networking apps, where the average number is heavily influenced by a few giants like Facebook, Pinterest, Skype, etc. Same applies to music apps, where a few big players like Pandora, Spotify, and Shazam heavily influence the average number.\n",
    "\n",
    "Our aim is to find popular genres, but navigation, social networking or music apps might seem more popular than they really are. The average number of ratings seem to be skewed by very few apps which have hundreds of thousands of user ratings, while the other apps may struggle to get past the 10,000 threshold. We could get a better picture by removing these extremely popular apps for each genre and then rework the averages, but we'll leave this level of detail for later.\n",
    "\n",
    "Reference apps have 74,942 user ratings on average, but it's actually the Bible and Dictionary.com which skew up the average rating:\n",
    "\n"
   ]
  },
  {
   "cell_type": "code",
   "execution_count": 28,
   "metadata": {},
   "outputs": [
    {
     "name": "stdout",
     "output_type": "stream",
     "text": [
      "Bible : 985920\n",
      "Dictionary.com Dictionary & Thesaurus : 200047\n",
      "Dictionary.com Dictionary & Thesaurus for iPad : 54175\n",
      "Google Translate : 26786\n",
      "Sky Guide: View Stars Night or Day : 22100\n",
      "Muslim Pro: Ramadan 2017 Prayer Times, Azan, Quran : 18418\n",
      "New Furniture Mods - Pocket Wiki & Game Tools for Minecraft PC Edition : 17588\n",
      "Merriam-Webster Dictionary : 16849\n",
      "Night Sky : 12122\n",
      "Dictionary.com Dictionary & Thesaurus Premium : 11530\n",
      "City Maps for Minecraft PE - The Best Maps for Minecraft Pocket Edition (MCPE) : 8535\n",
      "WolframAlpha : 7410\n",
      "e-Sword HD: Bible Study Made Easy : 7309\n",
      "iHandy Translator Pro : 5163\n",
      "Dictionary.com Premium Dictionary & Thesaurus for iPad : 4922\n",
      "LUCKY BLOCK MOD ™ for Minecraft PC Edition - The Best Pocket Wiki & Mods Installer Tools : 4693\n",
      "Speak & Translate － Live Voice and Text Translator : 4344\n",
      "National Geographic World Atlas : 4255\n",
      "Knots 3D : 3196\n",
      "iQuran : 2929\n",
      "Merriam-Webster Dictionary & Thesaurus : 2843\n",
      "e-Sword LT: Bible Study on the Go : 2152\n",
      "GUNS MODS for Minecraft PC Edition - Mods Tools : 1497\n",
      "Barefoot World Atlas : 1161\n",
      "Catholic Bible : 999\n",
      "Guides for Pokémon GO - Pokemon GO News and Cheats : 826\n",
      "WWDC : 762\n",
      "Horror Maps for Minecraft PE - Download The Scariest Maps for Minecraft Pocket Edition (MCPE) Free : 718\n",
      "CCW – Concealed Carry 50 State Guide : 644\n",
      "Voice Translator with Offline Dictionary Pro : 499\n",
      "DINOSAUR MOD FOR MINECRAFT PC EDITION - MODS POCKET GUIDE : 413\n",
      "Mutant Creatures Mod for Minecraft PC Edition - Pocket Mods Guide : 346\n",
      "Fighter Verses - memorize bible verses : 331\n",
      "DRAGON MODS MINE EDITION FOR MINECRAFT GAME PC : 318\n",
      "The World Factbook for iPad : 273\n",
      "Catholic New American Bible Revised Edition : 149\n",
      "V for Wikipedia : 134\n",
      "SkySafari 5 Plus : 108\n",
      "Great App for Who is Your Daddy version : 103\n",
      "ArtPose : 102\n",
      "ArtPose Female Edition : 85\n",
      "Cheats for FNAF World - Unlock every ending and beat the game with ease! : 84\n",
      "大辞林 : 64\n",
      "USPS StampApp for iPad : 15\n",
      "IllumiMoji : 14\n",
      "VPN Express : 14\n",
      "Dark Souls III Map Companion : 11\n",
      "Real Bike Traffic Rider Virtual Reality Glasses : 8\n",
      "Money Origami - Learn How to Fold Money : 6\n",
      "Dictionnaire Le Robert Mobile : 4 en 1 : 1\n",
      "教えて!goo : 0\n",
      "Theory Test 4-in-1 Bundle - Driving Test Success : 0\n",
      "Jishokun-Japanese English Dictionary & Translator : 0\n"
     ]
    }
   ],
   "source": [
    "  for app in ios_english:\n",
    "    if app[-5] == 'Reference':\n",
    "        print(app[1], ':', app[5])"
   ]
  },
  {
   "cell_type": "markdown",
   "metadata": {},
   "source": [
    "However, this niche seems to show some potential. One thing we could do is take another popular book and turn it into an app where we could add different features besides the raw version of the book. This might include daily quotes from the book, an audio version of the book, quizzes about the book, etc. On top of that, we could also embed a dictionary within the app, so users don't need to exit our app to look up words in an external app.\n",
    "\n",
    "This idea seems to fit well with the fact that the App Store is dominated by for-fun apps. This suggests the market might be a bit saturated with for-fun apps, which means a practical app might have more of a chance to stand out among the huge number of apps on the App Store.\n",
    "\n",
    "Other genres that seem popular include weather, book, food and drink, or finance. The book genre seem to overlap a bit with the app idea we described above, but the other genres don't seem too interesting to us:\n",
    "\n",
    "Weather apps — people generally don't spend too much time in-app, and the chances of making profit from in-app adds are low. Also, getting reliable live weather data may require us to connect our apps to non-free APIs.\n",
    "\n",
    "Food and drink — examples here include Starbucks, Dunkin' Donuts, McDonald's, etc. So making a popular food and drink app requires actual cooking and a delivery service, which is outside the scope of our company.\n",
    "\n",
    "Finance apps — these apps involve banking, paying bills, money transfer, etc. Building a finance app requires domain knowledge, and we don't want to hire a finance expert just to build an app.\n",
    "\n",
    "Now let's analyze the Google Play market a bit."
   ]
  },
  {
   "cell_type": "markdown",
   "metadata": {},
   "source": [
    "Most Popular Apps by Genre on Google Play\n",
    "\n",
    "\n",
    "\n",
    "For the Google Play market, we actually have data about the number of installs, so we should be able to get a clearer picture about genre popularity. However, the install numbers don't seem precise enough — we can see that most values are open-ended (100+, 1,000+, 5,000+, etc.):\n",
    "\n"
   ]
  },
  {
   "cell_type": "code",
   "execution_count": 26,
   "metadata": {},
   "outputs": [
    {
     "name": "stdout",
     "output_type": "stream",
     "text": [
      "1,000,000+ : 14.716588663546542\n",
      "100,000+ : 11.502860114404575\n",
      "10,000+ : 10.618824752990118\n",
      "10,000,000+ : 9.713988559542381\n",
      "1,000+ : 9.162766510660427\n",
      "100+ : 7.332293291731669\n",
      "5,000,000+ : 6.302652106084243\n",
      "500,000+ : 5.252210088403536\n",
      "5,000+ : 4.83619344773791\n",
      "50,000+ : 4.815392615704628\n",
      "10+ : 3.9937597503900157\n",
      "500+ : 3.4113364534581385\n",
      "50+ : 2.1216848673946958\n",
      "50,000,000+ : 2.1112844513780553\n",
      "100,000,000+ : 1.9552782111284452\n",
      "5+ : 0.8528341133645346\n",
      "1+ : 0.6864274570982839\n",
      "500,000,000+ : 0.24960998439937598\n",
      "1,000,000,000+ : 0.20800832033281333\n",
      "0+ : 0.13520540821632865\n",
      "Free : 0.010400416016640665\n",
      "0 : 0.010400416016640665\n"
     ]
    }
   ],
   "source": [
    "display_table(android_english, 5) # the Installs columns"
   ]
  },
  {
   "cell_type": "markdown",
   "metadata": {},
   "source": [
    "\n",
    "One problem with this data is that is not precise. For instance, we don't know whether an app with 100,000+ installs has 100,000 installs, 200,000, or 350,000. However, we don't need very precise data for our purposes — we only want to get an idea which app genres attract the most users, and we don't need perfect precision with respect to the number of users.\n",
    "\n",
    "We're going to leave the numbers as they are, which means that we'll consider that an app with 100,000+ installs has 100,000 installs, and an app with 1,000,000+ installs has 1,000,000 installs, and so on.\n",
    "  \n",
    "To perform computations, however, we'll need to convert each install number to float — this means that we need to remove the commas and the plus characters, otherwise the conversion will fail and raise an error. We'll do this directly in the loop below, where we also compute the average number of installs for each genre (category)."
   ]
  },
  {
   "cell_type": "code",
   "execution_count": 27,
   "metadata": {},
   "outputs": [
    {
     "name": "stdout",
     "output_type": "stream",
     "text": [
      "ART_AND_DESIGN : 1887285.0\n",
      "AUTO_AND_VEHICLES : 632501.3214285715\n",
      "BEAUTY : 513151.88679245283\n",
      "BOOKS_AND_REFERENCE : 7641777.871559633\n",
      "BUSINESS : 1663758.627684964\n",
      "COMICS : 817657.2727272727\n",
      "COMMUNICATION : 35153714.17515924\n",
      "DATING : 824129.2807017544\n",
      "EDUCATION : 1770579.4392523365\n",
      "ENTERTAINMENT : 11375402.298850575\n",
      "EVENTS : 249580.640625\n",
      "FINANCE : 1319851.4028985507\n",
      "FOOD_AND_DRINK : 1891060.2767857143\n",
      "HEALTH_AND_FITNESS : 3972300.388888889\n",
      "HOUSE_AND_HOME : 1331540.5616438356\n",
      "LIBRARIES_AND_DEMO : 630903.6904761905\n",
      "LIFESTYLE : 1369954.7774725275\n",
      "GAME : 14227278.868225291\n",
      "FAMILY : 3344163.6580645163\n",
      "MEDICAL : 96691.58734177215\n",
      "SOCIAL : 22961790.384937238\n",
      "SHOPPING : 6966908.880597015\n",
      "PHOTOGRAPHY : 16604098.410714285\n",
      "SPORTS : 3373767.6861538463\n",
      "TRAVEL_AND_LOCAL : 13218662.767123288\n",
      "TOOLS : 9676869.30471584\n",
      "PERSONALIZATION : 4086652.4853333333\n",
      "PRODUCTIVITY : 15530942.008042896\n",
      "PARENTING : 525351.8333333334\n",
      "WEATHER : 4570892.658227848\n",
      "VIDEO_PLAYERS : 24121489.079754602\n",
      "NEWS_AND_MAGAZINES : 9472807.04\n",
      "MAPS_AND_NAVIGATION : 3900634.7286821706\n"
     ]
    },
    {
     "ename": "ValueError",
     "evalue": "could not convert string to float: 'Free'",
     "output_type": "error",
     "traceback": [
      "\u001b[1;31m---------------------------------------------------------------------------\u001b[0m",
      "\u001b[1;31mValueError\u001b[0m                                Traceback (most recent call last)",
      "\u001b[1;32m<ipython-input-27-047b29d2844f>\u001b[0m in \u001b[0;36m<module>\u001b[1;34m\u001b[0m\n\u001b[0;32m     10\u001b[0m             \u001b[0mn_installs\u001b[0m \u001b[1;33m=\u001b[0m \u001b[0mn_installs\u001b[0m\u001b[1;33m.\u001b[0m\u001b[0mreplace\u001b[0m\u001b[1;33m(\u001b[0m\u001b[1;34m','\u001b[0m\u001b[1;33m,\u001b[0m \u001b[1;34m''\u001b[0m\u001b[1;33m)\u001b[0m\u001b[1;33m\u001b[0m\u001b[1;33m\u001b[0m\u001b[0m\n\u001b[0;32m     11\u001b[0m             \u001b[0mn_installs\u001b[0m \u001b[1;33m=\u001b[0m \u001b[0mn_installs\u001b[0m\u001b[1;33m.\u001b[0m\u001b[0mreplace\u001b[0m\u001b[1;33m(\u001b[0m\u001b[1;34m'+'\u001b[0m\u001b[1;33m,\u001b[0m \u001b[1;34m''\u001b[0m\u001b[1;33m)\u001b[0m\u001b[1;33m\u001b[0m\u001b[1;33m\u001b[0m\u001b[0m\n\u001b[1;32m---> 12\u001b[1;33m             \u001b[0mtotal\u001b[0m \u001b[1;33m+=\u001b[0m \u001b[0mfloat\u001b[0m\u001b[1;33m(\u001b[0m\u001b[0mn_installs\u001b[0m\u001b[1;33m)\u001b[0m\u001b[1;33m\u001b[0m\u001b[1;33m\u001b[0m\u001b[0m\n\u001b[0m\u001b[0;32m     13\u001b[0m             \u001b[0mlen_category\u001b[0m \u001b[1;33m+=\u001b[0m \u001b[1;36m1\u001b[0m\u001b[1;33m\u001b[0m\u001b[1;33m\u001b[0m\u001b[0m\n\u001b[0;32m     14\u001b[0m     \u001b[0mavg_n_installs\u001b[0m \u001b[1;33m=\u001b[0m \u001b[0mtotal\u001b[0m \u001b[1;33m/\u001b[0m \u001b[0mlen_category\u001b[0m\u001b[1;33m\u001b[0m\u001b[1;33m\u001b[0m\u001b[0m\n",
      "\u001b[1;31mValueError\u001b[0m: could not convert string to float: 'Free'"
     ]
    }
   ],
   "source": [
    "categories_android = freq_table(android_english, 1)\n",
    "\n",
    "for category in categories_android:\n",
    "    total = 0\n",
    "    len_category = 0\n",
    "    for app in android_english:\n",
    "        category_app = app[1]\n",
    "        if category_app == category:            \n",
    "            n_installs = app[5]\n",
    "            n_installs = n_installs.replace(',', '')\n",
    "            n_installs = n_installs.replace('+', '')\n",
    "            total += float(n_installs)\n",
    "            len_category += 1\n",
    "    avg_n_installs = total / len_category\n",
    "    print(category, ':', avg_n_installs)"
   ]
  },
  {
   "cell_type": "markdown",
   "metadata": {},
   "source": [
    "On average, communication apps have the most installs: 35153714.17515924. This number is heavily skewed up by a few apps that have over one billion installs (WhatsApp, Facebook Messenger, Skype, Google Chrome, Gmail, and Hangouts), and a few others with over 100 and 500 million installs:"
   ]
  },
  {
   "cell_type": "code",
   "execution_count": 29,
   "metadata": {},
   "outputs": [
    {
     "name": "stdout",
     "output_type": "stream",
     "text": [
      "WhatsApp Messenger : 1,000,000,000+\n",
      "imo beta free calls and text : 100,000,000+\n",
      "Android Messages : 100,000,000+\n",
      "Google Duo - High Quality Video Calls : 500,000,000+\n",
      "Messenger – Text and Video Chat for Free : 1,000,000,000+\n",
      "imo free video calls and chat : 500,000,000+\n",
      "Skype - free IM & video calls : 1,000,000,000+\n",
      "Who : 100,000,000+\n",
      "GO SMS Pro - Messenger, Free Themes, Emoji : 100,000,000+\n",
      "LINE: Free Calls & Messages : 500,000,000+\n",
      "Google Chrome: Fast & Secure : 1,000,000,000+\n",
      "Firefox Browser fast & private : 100,000,000+\n",
      "UC Browser - Fast Download Private & Secure : 500,000,000+\n",
      "Gmail : 1,000,000,000+\n",
      "Hangouts : 1,000,000,000+\n",
      "Messenger Lite: Free Calls & Messages : 100,000,000+\n",
      "Kik : 100,000,000+\n",
      "KakaoTalk: Free Calls & Text : 100,000,000+\n",
      "Opera Mini - fast web browser : 100,000,000+\n",
      "Opera Browser: Fast and Secure : 100,000,000+\n",
      "Telegram : 100,000,000+\n",
      "Truecaller: Caller ID, SMS spam blocking & Dialer : 100,000,000+\n",
      "UC Browser Mini -Tiny Fast Private & Secure : 100,000,000+\n",
      "Viber Messenger : 500,000,000+\n",
      "WeChat : 100,000,000+\n",
      "Yahoo Mail – Stay Organized : 100,000,000+\n",
      "BBM - Free Calls & Messages : 100,000,000+\n"
     ]
    }
   ],
   "source": [
    "for app in android_english:\n",
    "    if app[1] == 'COMMUNICATION' and (app[5] == '1,000,000,000+'\n",
    "                                      or app[5] == '500,000,000+'\n",
    "                                      or app[5] == '100,000,000+'):\n",
    "        print(app[0], ':', app[5])"
   ]
  },
  {
   "cell_type": "markdown",
   "metadata": {},
   "source": [
    "\n",
    "If we removed all the communication apps that have over 100 million installs, the average would be reduced roughly ten times:"
   ]
  },
  {
   "cell_type": "code",
   "execution_count": 30,
   "metadata": {},
   "outputs": [
    {
     "data": {
      "text/plain": [
       "3269220.386759582"
      ]
     },
     "execution_count": 30,
     "metadata": {},
     "output_type": "execute_result"
    }
   ],
   "source": [
    "\n",
    "under_100_m = []\n",
    "\n",
    "for app in android_english:\n",
    "    n_installs = app[5]\n",
    "    n_installs = n_installs.replace(',', '')\n",
    "    n_installs = n_installs.replace('+', '')\n",
    "    if (app[1] == 'COMMUNICATION') and (float(n_installs) < 100000000):\n",
    "        under_100_m.append(float(n_installs))\n",
    "        \n",
    "sum(under_100_m) / len(under_100_m)"
   ]
  },
  {
   "cell_type": "markdown",
   "metadata": {},
   "source": [
    "We see the same pattern for the video players category, which is the runner-up with 24,727,872 installs. The market is dominated by apps like Youtube, Google Play Movies & TV, or MX Player. The pattern is repeated for social apps (where we have giants like Facebook, Instagram, Google+, etc.), photography apps (Google Photos and other popular photo editors), or productivity apps (Microsoft Word, Dropbox, Google Calendar, Evernote, etc.).\n",
    "\n",
    "Again, the main concern is that these app genres might seem more popular than they really are. Moreover, these niches seem to be dominated by a few giants who are hard to compete against.\n",
    "\n",
    "The game genre seems pretty popular, but previously we found out this part of the market seems a bit saturated, so we'd like to come up with a different app recommendation if possible.\n",
    "\n",
    "The books and reference genre looks fairly popular as well, with an average number of installs of 8,767,811. It's interesting to explore this in more depth, since we found this genre has some potential to work well on the App Store, \n",
    "\n",
    "\n",
    "and OUR AIM is to recommend an app genre that shows potential for being profitable on both the App Store and Google Play.\n",
    "\n",
    "Let's take a look at some of the apps from this genre and their number of installs:"
   ]
  },
  {
   "cell_type": "code",
   "execution_count": 31,
   "metadata": {},
   "outputs": [
    {
     "name": "stdout",
     "output_type": "stream",
     "text": [
      "E-Book Read - Read Book for free : 50,000+\n",
      "Download free book with green book : 100,000+\n",
      "Wikipedia : 10,000,000+\n",
      "Cool Reader : 10,000,000+\n",
      "Free Panda Radio Music : 100,000+\n",
      "Book store : 1,000,000+\n",
      "FBReader: Favorite Book Reader : 10,000,000+\n",
      "English Grammar Complete Handbook : 500,000+\n",
      "Free Books - Spirit Fanfiction and Stories : 1,000,000+\n",
      "Google Play Books : 1,000,000,000+\n",
      "AlReader -any text book reader : 5,000,000+\n",
      "Offline English Dictionary : 100,000+\n",
      "Offline: English to Tagalog Dictionary : 500,000+\n",
      "FamilySearch Tree : 1,000,000+\n",
      "Cloud of Books : 1,000,000+\n",
      "Recipes of Prophetic Medicine for free : 500,000+\n",
      "ReadEra – free ebook reader : 1,000,000+\n",
      "Anonymous caller detection : 10,000+\n",
      "Ebook Reader : 5,000,000+\n",
      "Litnet - E-books : 100,000+\n",
      "Read books online : 5,000,000+\n",
      "English to Urdu Dictionary : 500,000+\n",
      "eBoox: book reader fb2 epub zip : 1,000,000+\n",
      "English Persian Dictionary : 500,000+\n",
      "Flybook : 500,000+\n",
      "All Maths Formulas : 1,000,000+\n",
      "Ancestry : 5,000,000+\n",
      "HTC Help : 10,000,000+\n",
      "English translation from Bengali : 100,000+\n",
      "Pdf Book Download - Read Pdf Book : 100,000+\n",
      "Free Book Reader : 100,000+\n",
      "eBoox new: Reader for fb2 epub zip books : 50,000+\n",
      "Only 30 days in English, the guideline is guaranteed : 500,000+\n",
      "Moon+ Reader : 10,000,000+\n",
      "SH-02J Owner's Manual (Android 8.0) : 50,000+\n",
      "English-Myanmar Dictionary : 1,000,000+\n",
      "Golden Dictionary (EN-AR) : 1,000,000+\n",
      "All Language Translator Free : 1,000,000+\n",
      "Azpen eReader : 500,000+\n",
      "URBANO V 02 instruction manual : 100,000+\n",
      "Bible : 100,000,000+\n",
      "C Programs and Reference : 50,000+\n",
      "C Offline Tutorial : 1,000+\n",
      "C Programs Handbook : 50,000+\n",
      "Amazon Kindle : 100,000,000+\n",
      "Aab e Hayat Full Novel : 100,000+\n",
      "Aldiko Book Reader : 10,000,000+\n",
      "Google I/O 2018 : 500,000+\n",
      "R Language Reference Guide : 10,000+\n",
      "Learn R Programming Full : 5,000+\n",
      "R Programing Offline Tutorial : 1,000+\n",
      "Guide for R Programming : 5+\n",
      "Learn R Programming : 10+\n",
      "R Quick Reference Big Data : 1,000+\n",
      "Don't Panic with Andrew J. : 5,000+\n",
      "V Made : 100,000+\n",
      "Wattpad 📖 Free Books : 100,000,000+\n",
      "Dictionary - WordWeb : 5,000,000+\n",
      "Guide (for X-MEN) : 100,000+\n",
      "AC Air condition Troubleshoot,Repair,Maintenance : 5,000+\n",
      "AE Bulletins : 1,000+\n",
      "Ae Allah na Dai (Rasa) : 10,000+\n",
      "50000 Free eBooks & Free AudioBooks : 5,000,000+\n",
      "Ag PhD Field Guide : 10,000+\n",
      "Ag PhD Deficiencies : 10,000+\n",
      "Ag PhD Planting Population Calculator : 1,000+\n",
      "Ag PhD Soybean Diseases : 1,000+\n",
      "Fertilizer Removal By Crop : 50,000+\n",
      "Hey AJ! It's Saturday! : 100+\n",
      "A-J Media Vault : 50+\n",
      "Al-Quran (Free) : 10,000,000+\n",
      "Al Quran (Tafsir & by Word) : 500,000+\n",
      "Al Quran Indonesia : 10,000,000+\n",
      "Al'Quran Bahasa Indonesia : 10,000,000+\n",
      "Al Quran Al karim : 1,000,000+\n",
      "Al-Muhaffiz : 50,000+\n",
      "Al Quran : EAlim - Translations & MP3 Offline : 5,000,000+\n",
      "Al-Quran 30 Juz free copies : 500,000+\n",
      "Koran Read &MP3 30 Juz Offline : 1,000,000+\n",
      "Al'Quran Bahasa Indonesia PRO : 10,000+\n",
      "Hafizi Quran 15 lines per page : 1,000,000+\n",
      "Quran for Android : 10,000,000+\n",
      "Surah Al-Waqiah : 100,000+\n",
      "Hisnul Al Muslim - Hisn Invocations & Adhkaar : 100,000+\n",
      "Satellite AR : 1,000,000+\n",
      "Audiobooks from Audible : 100,000,000+\n",
      "Kinot & Eichah for Tisha B'Av : 10,000+\n",
      "AW Tozer Devotionals - Daily : 5,000+\n",
      "Tozer Devotional -Series 1 : 1,000+\n",
      "The Pursuit of God : 1,000+\n",
      "AY Sing : 5,000+\n",
      "Ay Hasnain k Nana Milad Naat : 10,000+\n",
      "Ay Mohabbat Teri Khatir Novel : 10,000+\n",
      "Arizona Statutes, ARS (AZ Law) : 1,000+\n",
      "Oxford A-Z of English Usage : 1,000,000+\n",
      "BC MVA Fines : 50+\n",
      "BD Fishpedia : 1,000+\n",
      "BD All Sim Offer : 10,000+\n",
      "Youboox - Livres, BD et magazines : 500,000+\n",
      "B&H Kids AR : 10,000+\n",
      "B y H Niños ES : 5,000+\n",
      "Dictionary.com: Find Definitions for English Words : 10,000,000+\n",
      "English Dictionary - Offline : 10,000,000+\n",
      "Bible KJV : 5,000,000+\n",
      "Borneo Bible, BM Bible : 10,000+\n",
      "MOD Black for BM : 100+\n",
      "BM Box : 1,000+\n",
      "Anime Mod for BM : 100+\n",
      "NOOK: Read eBooks & Magazines : 10,000,000+\n",
      "NOOK Audiobooks : 500,000+\n",
      "NOOK App for NOOK Devices : 500,000+\n",
      "Browsery by Barnes & Noble : 5,000+\n",
      "bp e-store : 1,000+\n",
      "Brilliant Quotes: Life, Love, Family & Motivation : 1,000,000+\n",
      "BR Ambedkar Biography & Quotes : 10,000+\n",
      "17th Edition Cable Sizer : 1,000+\n",
      "BU Alsace : 100+\n",
      "Catholic La Bu Zo Kam : 500+\n",
      "Khrifa Hla Bu (Solfa) : 10+\n",
      "Kristian Hla Bu : 10,000+\n",
      "SA HLA BU : 1,000+\n",
      "Learn SAP BW : 500+\n",
      "Learn SAP BW on HANA : 500+\n",
      "CA Laws 2018 (California Laws and Codes) : 5,000+\n",
      "Bootable Methods(USB-CD-DVD) : 10,000+\n",
      "ch-mm Dict : 10+\n",
      "cloudLibrary : 100,000+\n",
      "SDA Collegiate Quarterly : 500+\n",
      "Sabbath School : 100,000+\n",
      "Cypress College Library : 100+\n",
      "Stats Royale for Clash Royale : 1,000,000+\n",
      "GATE 21 years CS Papers(2011-2018 Solved) : 50+\n",
      "Learn CT Scan Of Head : 5,000+\n",
      "Easy Cv maker 2018 : 10,000+\n",
      "How to Write CV : 100,000+\n",
      "CW Nuclear : 1,000+\n",
      "CY Spray nozzle : 10+\n",
      "BibleRead En Cy Zh Yue : 5+\n",
      "CZ-70 (CZ-50) pistol explained : 10+\n",
      "CZ-52 pistol explained : 10+\n",
      "CZ-27 pistol explained : 10+\n",
      "CZ-45 pistol explained : 10+\n",
      "CZ-Help : 5+\n",
      "Pistolet CZ-70 CZ-50 expliqué : 1+\n",
      "CZ-38 (vz 38) pistol explained : 5+\n",
      "Modlitební knížka CZ : 500+\n",
      "Reksio cz. 1 : 10+\n",
      "10,000 Quotes DB (Premium) : 500+\n",
      "Guide for DB Xenoverse : 10,000+\n",
      "Guide for DB Xenoverse 2 : 10,000+\n",
      "Guide for IMS DB : 10+\n",
      "DC HSEMA : 5,000+\n",
      "DC Public Library : 1,000+\n",
      "Painting Lulu DC Super Friends : 1,000+\n",
      "Dictionary : 10,000,000+\n",
      "Fix Error Google Playstore : 1,000+\n",
      "D. H. Lawrence Poems FREE : 1,000+\n",
      "Bilingual Dictionary Audio App : 5,000+\n",
      "DM Screen : 10,000+\n",
      "Dungeons and Dragons DM Tools : 1,000+\n",
      "Cossack Dictionary (DN) : 10+\n",
      "wikiHow: how to do anything : 1,000,000+\n",
      "Dr. Doug's Tips : 1,000+\n",
      "Bible du Semeur-BDS (French) : 50,000+\n",
      "La citadelle du musulman : 50,000+\n",
      "Officiel du SCRABBLE LAROUSSE : 5,000+\n",
      "DV 2019 Entry Guide : 10,000+\n",
      "DV 2019 - EDV Photo & Form : 50,000+\n",
      "DV 2018 Winners Guide : 1,000+\n",
      "EB Annual Meetings : 1,000+\n",
      "Schlaumeier : 5+\n",
      "EC - AP & Telangana : 5,000+\n",
      "TN Patta Citta & EC : 10,000+\n",
      "AP Stamps and Registration : 10,000+\n",
      "CompactiMa EC pH Calibration : 100+\n",
      "EGW Writings 2 : 100,000+\n",
      "EGW Writings : 1,000,000+\n",
      "Bible with EGW Comments : 100,000+\n",
      "My Little Pony AR Guide : 1,000,000+\n",
      "SDA Sabbath School Quarterly : 500,000+\n",
      "Duaa Ek Ibaadat : 5,000+\n",
      "Spanish English Translator : 10,000,000+\n",
      "Dictionary - Merriam-Webster : 10,000,000+\n",
      "JW Library : 10,000,000+\n",
      "Oxford Dictionary of English : Free : 10,000,000+\n",
      "English Hindi Dictionary : 10,000,000+\n",
      "English to Hindi Dictionary : 5,000,000+\n",
      "O Céu e o Inferno : 500+\n",
      "EP Research Service : 1,000+\n",
      "Hymnes et Louanges : 100,000+\n",
      "EU Charter : 1,000+\n",
      "EU Data Protection : 1,000+\n",
      "EU RCD Guide : 10+\n",
      "EU IP Codes : 100+\n",
      "EW PDF : 5+\n",
      "BakaReader EX : 100,000+\n",
      "EZ Quran : 50,000+\n",
      "FA Part 1 & 2 Past Papers Solved Free – Offline : 5,000+\n",
      "La Fe de Jesus : 1,000+\n",
      "La Fe de Jesús : 500+\n",
      "Le Fe de Jesus : 500+\n",
      "Florida - Pocket Brainbook : 1,000+\n",
      "Florida Statutes (FL Code) : 1,000+\n",
      "FN pistol Model 1906 explained : 10+\n",
      "FN pistol model 1903 explained : 10+\n",
      "The FN \"Baby\" pistol explained : 10+\n",
      "FN FAL rifle explained : 10+\n",
      "The FN HP pistol explained : 10+\n",
      "FN model 1900 pistol explained : 10+\n",
      "Pistolet FN GP35 expliqué : 5+\n",
      "Pistolet FN 1906 expliqué : 10+\n",
      "English To Shona Dictionary : 10,000+\n",
      "Greek Bible FP (Audio) : 1,000+\n",
      "Golden Dictionary (FR-AR) : 500,000+\n",
      "Fanfic-FR : 5,000+\n",
      "Bulgarian French Dictionary Fr : 10,000+\n",
      "Chemin (fr) : 1,000+\n",
      "The SCP Foundation DB fr nn5n : 1,000+\n"
     ]
    }
   ],
   "source": [
    "for app in android_english:\n",
    "    if app[1] == 'BOOKS_AND_REFERENCE':\n",
    "        print(app[0], ':', app[5])"
   ]
  },
  {
   "cell_type": "markdown",
   "metadata": {},
   "source": [
    "This niche seems to be dominated by software for processing and reading ebooks, as well as various collections of libraries and dictionaries, so it's probably not a good idea to build similar apps since there'll be some significant competition.\n",
    "\n",
    "We also notice there are quite a few apps built around the book Quran, which suggests that building an app around a popular book can be profitable. It seems that taking a popular book (perhaps a more recent book) and turning it into an app could be profitable for both the Google Play and the App Store markets.\n",
    "\n",
    "However, it looks like the market is already full of libraries, so we need to add some special features besides the raw version of the book. This might include daily quotes from the book, an audio version of the book, quizzes on the book, a forum where people can discuss the book, etc."
   ]
  },
  {
   "cell_type": "markdown",
   "metadata": {},
   "source": [
    "CONCLUSIONS\n",
    "\n",
    "\n",
    "\n",
    "\n",
    "In this project, we analyzed data about the App Store and Google Play mobile apps with the goal of recommending an app profile that can be profitable for both markets.\n",
    "\n",
    "We concluded that taking a popular book (perhaps a more recent book) and turning it into an app could be profitable for both the Google Play and the App Store markets. The markets are already full of libraries, so we need to add some special features besides the raw version of the book. This might include daily quotes from the book, an audio version of the book, quizzes on the book, a forum where people can discuss the book, etc."
   ]
  },
  {
   "cell_type": "code",
   "execution_count": null,
   "metadata": {},
   "outputs": [],
   "source": []
  }
 ],
 "metadata": {
  "kernelspec": {
   "display_name": "Python 3",
   "language": "python",
   "name": "python3"
  },
  "language_info": {
   "codemirror_mode": {
    "name": "ipython",
    "version": 3
   },
   "file_extension": ".py",
   "mimetype": "text/x-python",
   "name": "python",
   "nbconvert_exporter": "python",
   "pygments_lexer": "ipython3",
   "version": "3.7.1"
  }
 },
 "nbformat": 4,
 "nbformat_minor": 4
}
